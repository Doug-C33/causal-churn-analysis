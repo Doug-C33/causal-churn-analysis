{
 "cells": [
  {
   "cell_type": "code",
   "execution_count": 1,
   "id": "948a5f61",
   "metadata": {},
   "outputs": [
    {
     "name": "stdout",
     "output_type": "stream",
     "text": [
      "e:\\causal-churn-analysis\\.venv\\Scripts\\python.exe\n"
     ]
    }
   ],
   "source": [
    "import sys\n",
    "print(sys.executable)"
   ]
  },
  {
   "cell_type": "code",
   "execution_count": 28,
   "id": "c0bc43fc",
   "metadata": {},
   "outputs": [
    {
     "name": "stdout",
     "output_type": "stream",
     "text": [
      "Collecting scikit-learn\n",
      "  Downloading scikit_learn-1.7.0-cp311-cp311-win_amd64.whl (10.7 MB)\n",
      "     --------------------------------------- 10.7/10.7 MB 38.4 MB/s eta 0:00:00\n",
      "Requirement already satisfied: numpy>=1.22.0 in e:\\causal-churn-analysis\\.venv\\lib\\site-packages (from scikit-learn) (2.3.0)\n",
      "Collecting scipy>=1.8.0\n",
      "  Downloading scipy-1.16.0-cp311-cp311-win_amd64.whl (38.6 MB)\n",
      "     --------------------------------------- 38.6/38.6 MB 31.2 MB/s eta 0:00:00\n",
      "Collecting joblib>=1.2.0\n",
      "  Downloading joblib-1.5.1-py3-none-any.whl (307 kB)\n",
      "     ---------------------------------------- 307.7/307.7 kB ? eta 0:00:00\n",
      "Collecting threadpoolctl>=3.1.0\n",
      "  Downloading threadpoolctl-3.6.0-py3-none-any.whl (18 kB)\n",
      "Installing collected packages: threadpoolctl, scipy, joblib, scikit-learn\n",
      "Successfully installed joblib-1.5.1 scikit-learn-1.7.0 scipy-1.16.0 threadpoolctl-3.6.0\n"
     ]
    },
    {
     "name": "stderr",
     "output_type": "stream",
     "text": [
      "\n",
      "[notice] A new release of pip available: 22.3.1 -> 25.1.1\n",
      "[notice] To update, run: python.exe -m pip install --upgrade pip\n"
     ]
    }
   ],
   "source": [
    "import sys\n",
    "!{sys.executable} -m pip install scikit-learn\n"
   ]
  },
  {
   "cell_type": "code",
   "execution_count": 32,
   "id": "d01cf36e",
   "metadata": {},
   "outputs": [],
   "source": [
    "import joblib"
   ]
  },
  {
   "cell_type": "code",
   "execution_count": 2,
   "id": "f370e794",
   "metadata": {},
   "outputs": [],
   "source": [
    "import pandas as pd  \n",
    "import os\n",
    "from IPython.display import display "
   ]
  },
  {
   "cell_type": "code",
   "execution_count": 3,
   "id": "ed1ad77e",
   "metadata": {},
   "outputs": [
    {
     "data": {
      "text/html": [
       "<div>\n",
       "<style scoped>\n",
       "    .dataframe tbody tr th:only-of-type {\n",
       "        vertical-align: middle;\n",
       "    }\n",
       "\n",
       "    .dataframe tbody tr th {\n",
       "        vertical-align: top;\n",
       "    }\n",
       "\n",
       "    .dataframe thead th {\n",
       "        text-align: right;\n",
       "    }\n",
       "</style>\n",
       "<table border=\"1\" class=\"dataframe\">\n",
       "  <thead>\n",
       "    <tr style=\"text-align: right;\">\n",
       "      <th></th>\n",
       "      <th>customerID</th>\n",
       "      <th>gender</th>\n",
       "      <th>SeniorCitizen</th>\n",
       "      <th>Partner</th>\n",
       "      <th>Dependents</th>\n",
       "      <th>tenure</th>\n",
       "      <th>PhoneService</th>\n",
       "      <th>MultipleLines</th>\n",
       "      <th>InternetService</th>\n",
       "      <th>OnlineSecurity</th>\n",
       "      <th>...</th>\n",
       "      <th>DeviceProtection</th>\n",
       "      <th>TechSupport</th>\n",
       "      <th>StreamingTV</th>\n",
       "      <th>StreamingMovies</th>\n",
       "      <th>Contract</th>\n",
       "      <th>PaperlessBilling</th>\n",
       "      <th>PaymentMethod</th>\n",
       "      <th>MonthlyCharges</th>\n",
       "      <th>TotalCharges</th>\n",
       "      <th>Churn</th>\n",
       "    </tr>\n",
       "  </thead>\n",
       "  <tbody>\n",
       "    <tr>\n",
       "      <th>0</th>\n",
       "      <td>7590-VHVEG</td>\n",
       "      <td>Female</td>\n",
       "      <td>0</td>\n",
       "      <td>Yes</td>\n",
       "      <td>No</td>\n",
       "      <td>1</td>\n",
       "      <td>No</td>\n",
       "      <td>No phone service</td>\n",
       "      <td>DSL</td>\n",
       "      <td>No</td>\n",
       "      <td>...</td>\n",
       "      <td>No</td>\n",
       "      <td>No</td>\n",
       "      <td>No</td>\n",
       "      <td>No</td>\n",
       "      <td>Month-to-month</td>\n",
       "      <td>Yes</td>\n",
       "      <td>Electronic check</td>\n",
       "      <td>29.85</td>\n",
       "      <td>29.85</td>\n",
       "      <td>No</td>\n",
       "    </tr>\n",
       "    <tr>\n",
       "      <th>1</th>\n",
       "      <td>5575-GNVDE</td>\n",
       "      <td>Male</td>\n",
       "      <td>0</td>\n",
       "      <td>No</td>\n",
       "      <td>No</td>\n",
       "      <td>34</td>\n",
       "      <td>Yes</td>\n",
       "      <td>No</td>\n",
       "      <td>DSL</td>\n",
       "      <td>Yes</td>\n",
       "      <td>...</td>\n",
       "      <td>Yes</td>\n",
       "      <td>No</td>\n",
       "      <td>No</td>\n",
       "      <td>No</td>\n",
       "      <td>One year</td>\n",
       "      <td>No</td>\n",
       "      <td>Mailed check</td>\n",
       "      <td>56.95</td>\n",
       "      <td>1889.5</td>\n",
       "      <td>No</td>\n",
       "    </tr>\n",
       "    <tr>\n",
       "      <th>2</th>\n",
       "      <td>3668-QPYBK</td>\n",
       "      <td>Male</td>\n",
       "      <td>0</td>\n",
       "      <td>No</td>\n",
       "      <td>No</td>\n",
       "      <td>2</td>\n",
       "      <td>Yes</td>\n",
       "      <td>No</td>\n",
       "      <td>DSL</td>\n",
       "      <td>Yes</td>\n",
       "      <td>...</td>\n",
       "      <td>No</td>\n",
       "      <td>No</td>\n",
       "      <td>No</td>\n",
       "      <td>No</td>\n",
       "      <td>Month-to-month</td>\n",
       "      <td>Yes</td>\n",
       "      <td>Mailed check</td>\n",
       "      <td>53.85</td>\n",
       "      <td>108.15</td>\n",
       "      <td>Yes</td>\n",
       "    </tr>\n",
       "    <tr>\n",
       "      <th>3</th>\n",
       "      <td>7795-CFOCW</td>\n",
       "      <td>Male</td>\n",
       "      <td>0</td>\n",
       "      <td>No</td>\n",
       "      <td>No</td>\n",
       "      <td>45</td>\n",
       "      <td>No</td>\n",
       "      <td>No phone service</td>\n",
       "      <td>DSL</td>\n",
       "      <td>Yes</td>\n",
       "      <td>...</td>\n",
       "      <td>Yes</td>\n",
       "      <td>Yes</td>\n",
       "      <td>No</td>\n",
       "      <td>No</td>\n",
       "      <td>One year</td>\n",
       "      <td>No</td>\n",
       "      <td>Bank transfer (automatic)</td>\n",
       "      <td>42.30</td>\n",
       "      <td>1840.75</td>\n",
       "      <td>No</td>\n",
       "    </tr>\n",
       "    <tr>\n",
       "      <th>4</th>\n",
       "      <td>9237-HQITU</td>\n",
       "      <td>Female</td>\n",
       "      <td>0</td>\n",
       "      <td>No</td>\n",
       "      <td>No</td>\n",
       "      <td>2</td>\n",
       "      <td>Yes</td>\n",
       "      <td>No</td>\n",
       "      <td>Fiber optic</td>\n",
       "      <td>No</td>\n",
       "      <td>...</td>\n",
       "      <td>No</td>\n",
       "      <td>No</td>\n",
       "      <td>No</td>\n",
       "      <td>No</td>\n",
       "      <td>Month-to-month</td>\n",
       "      <td>Yes</td>\n",
       "      <td>Electronic check</td>\n",
       "      <td>70.70</td>\n",
       "      <td>151.65</td>\n",
       "      <td>Yes</td>\n",
       "    </tr>\n",
       "  </tbody>\n",
       "</table>\n",
       "<p>5 rows × 21 columns</p>\n",
       "</div>"
      ],
      "text/plain": [
       "   customerID  gender  SeniorCitizen Partner Dependents  tenure PhoneService  \\\n",
       "0  7590-VHVEG  Female              0     Yes         No       1           No   \n",
       "1  5575-GNVDE    Male              0      No         No      34          Yes   \n",
       "2  3668-QPYBK    Male              0      No         No       2          Yes   \n",
       "3  7795-CFOCW    Male              0      No         No      45           No   \n",
       "4  9237-HQITU  Female              0      No         No       2          Yes   \n",
       "\n",
       "      MultipleLines InternetService OnlineSecurity  ... DeviceProtection  \\\n",
       "0  No phone service             DSL             No  ...               No   \n",
       "1                No             DSL            Yes  ...              Yes   \n",
       "2                No             DSL            Yes  ...               No   \n",
       "3  No phone service             DSL            Yes  ...              Yes   \n",
       "4                No     Fiber optic             No  ...               No   \n",
       "\n",
       "  TechSupport StreamingTV StreamingMovies        Contract PaperlessBilling  \\\n",
       "0          No          No              No  Month-to-month              Yes   \n",
       "1          No          No              No        One year               No   \n",
       "2          No          No              No  Month-to-month              Yes   \n",
       "3         Yes          No              No        One year               No   \n",
       "4          No          No              No  Month-to-month              Yes   \n",
       "\n",
       "               PaymentMethod MonthlyCharges  TotalCharges Churn  \n",
       "0           Electronic check          29.85         29.85    No  \n",
       "1               Mailed check          56.95        1889.5    No  \n",
       "2               Mailed check          53.85        108.15   Yes  \n",
       "3  Bank transfer (automatic)          42.30       1840.75    No  \n",
       "4           Electronic check          70.70        151.65   Yes  \n",
       "\n",
       "[5 rows x 21 columns]"
      ]
     },
     "metadata": {},
     "output_type": "display_data"
    }
   ],
   "source": [
    "file_path = os.path.join(\"..\", \"data\", \"WA_Fn-UseC_-Telco-Customer-Churn.csv\") \n",
    "df = pd.read_csv(file_path)\n",
    "display(df.head())\n"
   ]
  },
  {
   "cell_type": "code",
   "execution_count": 4,
   "id": "e2115905",
   "metadata": {},
   "outputs": [
    {
     "name": "stdout",
     "output_type": "stream",
     "text": [
      "<class 'pandas.core.frame.DataFrame'>\n",
      "RangeIndex: 7043 entries, 0 to 7042\n",
      "Data columns (total 21 columns):\n",
      " #   Column            Non-Null Count  Dtype  \n",
      "---  ------            --------------  -----  \n",
      " 0   customerID        7043 non-null   object \n",
      " 1   gender            7043 non-null   object \n",
      " 2   SeniorCitizen     7043 non-null   int64  \n",
      " 3   Partner           7043 non-null   object \n",
      " 4   Dependents        7043 non-null   object \n",
      " 5   tenure            7043 non-null   int64  \n",
      " 6   PhoneService      7043 non-null   object \n",
      " 7   MultipleLines     7043 non-null   object \n",
      " 8   InternetService   7043 non-null   object \n",
      " 9   OnlineSecurity    7043 non-null   object \n",
      " 10  OnlineBackup      7043 non-null   object \n",
      " 11  DeviceProtection  7043 non-null   object \n",
      " 12  TechSupport       7043 non-null   object \n",
      " 13  StreamingTV       7043 non-null   object \n",
      " 14  StreamingMovies   7043 non-null   object \n",
      " 15  Contract          7043 non-null   object \n",
      " 16  PaperlessBilling  7043 non-null   object \n",
      " 17  PaymentMethod     7043 non-null   object \n",
      " 18  MonthlyCharges    7043 non-null   float64\n",
      " 19  TotalCharges      7043 non-null   object \n",
      " 20  Churn             7043 non-null   object \n",
      "dtypes: float64(1), int64(2), object(18)\n",
      "memory usage: 1.1+ MB\n"
     ]
    },
    {
     "data": {
      "text/plain": [
       "customerID          0\n",
       "gender              0\n",
       "SeniorCitizen       0\n",
       "Partner             0\n",
       "Dependents          0\n",
       "tenure              0\n",
       "PhoneService        0\n",
       "MultipleLines       0\n",
       "InternetService     0\n",
       "OnlineSecurity      0\n",
       "OnlineBackup        0\n",
       "DeviceProtection    0\n",
       "TechSupport         0\n",
       "StreamingTV         0\n",
       "StreamingMovies     0\n",
       "Contract            0\n",
       "PaperlessBilling    0\n",
       "PaymentMethod       0\n",
       "MonthlyCharges      0\n",
       "TotalCharges        0\n",
       "Churn               0\n",
       "dtype: int64"
      ]
     },
     "execution_count": 4,
     "metadata": {},
     "output_type": "execute_result"
    }
   ],
   "source": [
    "\n",
    "df.info()\n",
    "df.isnull().sum()\n",
    "\n"
   ]
  },
  {
   "cell_type": "markdown",
   "id": "130d4efd",
   "metadata": {},
   "source": [
    "### Convert TotalCharges to Numeric\n",
    "\n",
    "TotalCharges was read as object. We convert it to numeric, coercing invalid entries to NaN.\n"
   ]
  },
  {
   "cell_type": "code",
   "execution_count": 5,
   "id": "cad02641",
   "metadata": {},
   "outputs": [],
   "source": [
    "df['TotalCharges'] = pd.to_numeric(df['TotalCharges'], errors='coerce')\n",
    "df = df.dropna(subset=['TotalCharges'])\n"
   ]
  },
  {
   "cell_type": "markdown",
   "id": "02b77c7e",
   "metadata": {},
   "source": [
    "### Standardize Column Names\n",
    "\n",
    "Column names are cleaned by:\n",
    "- Stripping leading/trailing whitespace\n",
    "- Converting all letters to lowercase\n",
    "- Replacing spaces with underscores\n",
    "\n",
    "This standardization ensures consistency and makes column access easier in code (e.g., df.monthlycharges instead of df['Monthly Charges']).\n"
   ]
  },
  {
   "cell_type": "code",
   "execution_count": null,
   "id": "0c8e083e",
   "metadata": {},
   "outputs": [],
   "source": [
    "df.columns = df.columns.str.strip().str.lower().str.replace(\" \", \"_\")\n"
   ]
  },
  {
   "cell_type": "markdown",
   "id": "3ba0c279",
   "metadata": {},
   "source": [
    "### Check and Remove Duplicates\n",
    "\n",
    "We check for and remove:\n",
    "- Entirely duplicated rows using `df.duplicated()`\n",
    "- Duplicate customer IDs using `df['customerid'].duplicated()`\n",
    "\n",
    "No duplicates were found in this dataset, so no cleaning was needed for this step.\n"
   ]
  },
  {
   "cell_type": "code",
   "execution_count": 7,
   "id": "4bfe8721",
   "metadata": {},
   "outputs": [
    {
     "data": {
      "text/plain": [
       "np.int64(0)"
      ]
     },
     "execution_count": 7,
     "metadata": {},
     "output_type": "execute_result"
    }
   ],
   "source": [
    "df.duplicated().sum()\n",
    "df['customerid'].duplicated().sum()\n"
   ]
  },
  {
   "cell_type": "markdown",
   "id": "006f0f52",
   "metadata": {},
   "source": [
    "## Categorical Variable Summary\n",
    "\n",
    "This cell inspects all object-type (categorical) columns to:\n",
    "\n",
    "- Count the number of unique values per column\n",
    "- Display the frequency of each value\n",
    "\n",
    "This helps identify:\n",
    "- Categorical columns with potential for encoding\n",
    "- Columns with high cardinality (e.g., customerID)\n",
    "- Possible data quality issues (e.g., inconsistent labels)\n",
    "\n",
    "Observation:\n",
    "- `customerID` has 7032 unique values (likely an identifier, drop before modeling)\n",
    "- `gender` and `partner` are clean binary categorical variables\n"
   ]
  },
  {
   "cell_type": "code",
   "execution_count": 8,
   "id": "3566b0bc",
   "metadata": {},
   "outputs": [
    {
     "name": "stdout",
     "output_type": "stream",
     "text": [
      "customerid → 7032 unique values\n",
      "customerid\n",
      "7590-VHVEG    1\n",
      "5575-GNVDE    1\n",
      "3668-QPYBK    1\n",
      "7795-CFOCW    1\n",
      "9237-HQITU    1\n",
      "             ..\n",
      "6840-RESVB    1\n",
      "2234-XADUH    1\n",
      "4801-JZAZL    1\n",
      "8361-LTMKD    1\n",
      "3186-AJIEK    1\n",
      "Name: count, Length: 7032, dtype: int64 \n",
      "\n",
      "gender → 2 unique values\n",
      "gender\n",
      "Male      3549\n",
      "Female    3483\n",
      "Name: count, dtype: int64 \n",
      "\n",
      "partner → 2 unique values\n",
      "partner\n",
      "No     3639\n",
      "Yes    3393\n",
      "Name: count, dtype: int64 \n",
      "\n",
      "dependents → 2 unique values\n",
      "dependents\n",
      "No     4933\n",
      "Yes    2099\n",
      "Name: count, dtype: int64 \n",
      "\n",
      "phoneservice → 2 unique values\n",
      "phoneservice\n",
      "Yes    6352\n",
      "No      680\n",
      "Name: count, dtype: int64 \n",
      "\n",
      "multiplelines → 3 unique values\n",
      "multiplelines\n",
      "No                  3385\n",
      "Yes                 2967\n",
      "No phone service     680\n",
      "Name: count, dtype: int64 \n",
      "\n",
      "internetservice → 3 unique values\n",
      "internetservice\n",
      "Fiber optic    3096\n",
      "DSL            2416\n",
      "No             1520\n",
      "Name: count, dtype: int64 \n",
      "\n",
      "onlinesecurity → 3 unique values\n",
      "onlinesecurity\n",
      "No                     3497\n",
      "Yes                    2015\n",
      "No internet service    1520\n",
      "Name: count, dtype: int64 \n",
      "\n",
      "onlinebackup → 3 unique values\n",
      "onlinebackup\n",
      "No                     3087\n",
      "Yes                    2425\n",
      "No internet service    1520\n",
      "Name: count, dtype: int64 \n",
      "\n",
      "deviceprotection → 3 unique values\n",
      "deviceprotection\n",
      "No                     3094\n",
      "Yes                    2418\n",
      "No internet service    1520\n",
      "Name: count, dtype: int64 \n",
      "\n",
      "techsupport → 3 unique values\n",
      "techsupport\n",
      "No                     3472\n",
      "Yes                    2040\n",
      "No internet service    1520\n",
      "Name: count, dtype: int64 \n",
      "\n",
      "streamingtv → 3 unique values\n",
      "streamingtv\n",
      "No                     2809\n",
      "Yes                    2703\n",
      "No internet service    1520\n",
      "Name: count, dtype: int64 \n",
      "\n",
      "streamingmovies → 3 unique values\n",
      "streamingmovies\n",
      "No                     2781\n",
      "Yes                    2731\n",
      "No internet service    1520\n",
      "Name: count, dtype: int64 \n",
      "\n",
      "contract → 3 unique values\n",
      "contract\n",
      "Month-to-month    3875\n",
      "Two year          1685\n",
      "One year          1472\n",
      "Name: count, dtype: int64 \n",
      "\n",
      "paperlessbilling → 2 unique values\n",
      "paperlessbilling\n",
      "Yes    4168\n",
      "No     2864\n",
      "Name: count, dtype: int64 \n",
      "\n",
      "paymentmethod → 4 unique values\n",
      "paymentmethod\n",
      "Electronic check             2365\n",
      "Mailed check                 1604\n",
      "Bank transfer (automatic)    1542\n",
      "Credit card (automatic)      1521\n",
      "Name: count, dtype: int64 \n",
      "\n",
      "churn → 2 unique values\n",
      "churn\n",
      "No     5163\n",
      "Yes    1869\n",
      "Name: count, dtype: int64 \n",
      "\n"
     ]
    }
   ],
   "source": [
    "for col in df.select_dtypes(include='object'):\n",
    "    print(col, \"→\", df[col].nunique(), \"unique values\")\n",
    "    print(df[col].value_counts(), \"\\n\")\n"
   ]
  },
  {
   "cell_type": "code",
   "execution_count": null,
   "id": "e4a20610",
   "metadata": {},
   "outputs": [
    {
     "data": {
      "text/html": [
       "<div>\n",
       "<style scoped>\n",
       "    .dataframe tbody tr th:only-of-type {\n",
       "        vertical-align: middle;\n",
       "    }\n",
       "\n",
       "    .dataframe tbody tr th {\n",
       "        vertical-align: top;\n",
       "    }\n",
       "\n",
       "    .dataframe thead th {\n",
       "        text-align: right;\n",
       "    }\n",
       "</style>\n",
       "<table border=\"1\" class=\"dataframe\">\n",
       "  <thead>\n",
       "    <tr style=\"text-align: right;\">\n",
       "      <th></th>\n",
       "      <th>multiplelines</th>\n",
       "      <th>phoneservice</th>\n",
       "    </tr>\n",
       "  </thead>\n",
       "  <tbody>\n",
       "    <tr>\n",
       "      <th>0</th>\n",
       "      <td>No</td>\n",
       "      <td>No</td>\n",
       "    </tr>\n",
       "    <tr>\n",
       "      <th>1</th>\n",
       "      <td>No</td>\n",
       "      <td>Yes</td>\n",
       "    </tr>\n",
       "    <tr>\n",
       "      <th>2</th>\n",
       "      <td>No</td>\n",
       "      <td>Yes</td>\n",
       "    </tr>\n",
       "    <tr>\n",
       "      <th>3</th>\n",
       "      <td>No</td>\n",
       "      <td>No</td>\n",
       "    </tr>\n",
       "    <tr>\n",
       "      <th>4</th>\n",
       "      <td>No</td>\n",
       "      <td>Yes</td>\n",
       "    </tr>\n",
       "    <tr>\n",
       "      <th>5</th>\n",
       "      <td>Yes</td>\n",
       "      <td>Yes</td>\n",
       "    </tr>\n",
       "    <tr>\n",
       "      <th>6</th>\n",
       "      <td>Yes</td>\n",
       "      <td>Yes</td>\n",
       "    </tr>\n",
       "    <tr>\n",
       "      <th>7</th>\n",
       "      <td>No</td>\n",
       "      <td>No</td>\n",
       "    </tr>\n",
       "    <tr>\n",
       "      <th>8</th>\n",
       "      <td>Yes</td>\n",
       "      <td>Yes</td>\n",
       "    </tr>\n",
       "    <tr>\n",
       "      <th>9</th>\n",
       "      <td>No</td>\n",
       "      <td>Yes</td>\n",
       "    </tr>\n",
       "  </tbody>\n",
       "</table>\n",
       "</div>"
      ],
      "text/plain": [
       "  multiplelines phoneservice\n",
       "0            No           No\n",
       "1            No          Yes\n",
       "2            No          Yes\n",
       "3            No           No\n",
       "4            No          Yes\n",
       "5           Yes          Yes\n",
       "6           Yes          Yes\n",
       "7            No           No\n",
       "8           Yes          Yes\n",
       "9            No          Yes"
      ]
     },
     "metadata": {},
     "output_type": "display_data"
    }
   ],
   "source": [
    "df['multiplelines'] = df['multiplelines'].replace('No phone service', 'No')\n",
    "display(df[['multiplelines', 'phoneservice']].head(10))\n",
    "\n",
    "\n"
   ]
  },
  {
   "cell_type": "markdown",
   "id": "c25fdec3",
   "metadata": {},
   "source": [
    "### Standardize 'multiplelines' Values\n",
    "\n",
    "The value `'No phone service'` in the `multiplelines` column is equivalent to `'No'` and was replaced to simplify category levels.\n",
    "\n",
    "#### Check: Confirm the value was removed and replaced\n"
   ]
  },
  {
   "cell_type": "code",
   "execution_count": 16,
   "id": "f378d045",
   "metadata": {},
   "outputs": [
    {
     "name": "stdout",
     "output_type": "stream",
     "text": [
      "Unique values in 'multiplelines':\n",
      "['No' 'Yes']\n"
     ]
    }
   ],
   "source": [
    "# Check that the replacement worked\n",
    "print(\"Unique values in 'multiplelines':\")\n",
    "print(df['multiplelines'].unique())\n",
    "\n",
    "# Optional assert for safety (will raise an error if replacement failed)\n",
    "assert 'No phone service' not in df['multiplelines'].unique()\n"
   ]
  },
  {
   "cell_type": "markdown",
   "id": "65a28501",
   "metadata": {},
   "source": [
    "## Standardize Internet-Related Service Columns\n",
    "\n",
    "The columns below included the category `'No internet service'`, which indicates the customer does not have internet. These values were replaced with `'No'` to simplify the categories and ensure consistent binary responses:\n",
    "\n",
    "- onlinesecurity  \n",
    "- onlinebackup  \n",
    "- deviceprotection  \n",
    "- techsupport  \n",
    "- streamingtv  \n",
    "- streamingmovies"
   ]
  },
  {
   "cell_type": "code",
   "execution_count": null,
   "id": "33432e74",
   "metadata": {},
   "outputs": [],
   "source": [
    "internet_cols = ['onlinesecurity', 'onlinebackup', 'deviceprotection', \n",
    "                 'techsupport', 'streamingtv', 'streamingmovies']\n",
    "\n",
    "for col in internet_cols:\n",
    "    df[col] = df[col].replace('No internet service', 'No')\n"
   ]
  },
  {
   "cell_type": "markdown",
   "id": "299b6e91",
   "metadata": {},
   "source": [
    "### Check: Verify 'No internet service' was removed from internet-related columns"
   ]
  },
  {
   "cell_type": "code",
   "execution_count": null,
   "id": "ecc968f8",
   "metadata": {},
   "outputs": [
    {
     "name": "stdout",
     "output_type": "stream",
     "text": [
      "onlinesecurity → ['No' 'Yes']\n",
      "onlinebackup → ['Yes' 'No']\n",
      "deviceprotection → ['No' 'Yes']\n",
      "techsupport → ['No' 'Yes']\n",
      "streamingtv → ['No' 'Yes']\n",
      "streamingmovies → ['No' 'Yes']\n"
     ]
    }
   ],
   "source": [
    "for col in internet_cols:\n",
    "    print(col, \"→\", df[col].unique())\n"
   ]
  },
  {
   "cell_type": "markdown",
   "id": "e0e2ca50",
   "metadata": {},
   "source": [
    "### Convert Binary Columns to Numeric (0/1)\n",
    "\n",
    "The following columns had `'Yes'` and `'No'` values, which were converted to 1 and 0 for modeling purposes:\n",
    "\n",
    "- partner, dependents, phoneservice, multiplelines\n",
    "- onlinesecurity, onlinebackup, deviceprotection, techsupport\n",
    "- streamingtv, streamingmovies, paperlessbilling, churn\n"
   ]
  },
  {
   "cell_type": "code",
   "execution_count": 17,
   "id": "72d1b4c7",
   "metadata": {},
   "outputs": [],
   "source": [
    "binary_cols = [\n",
    "    'partner', 'dependents', 'phoneservice', 'multiplelines',\n",
    "    'onlinesecurity', 'onlinebackup', 'deviceprotection',\n",
    "    'techsupport', 'streamingtv', 'streamingmovies',\n",
    "    'paperlessbilling', 'churn'\n",
    "]\n",
    "\n",
    "df[binary_cols] = df[binary_cols].apply(lambda col: col.map({'Yes': 1, 'No': 0}))\n"
   ]
  },
  {
   "cell_type": "markdown",
   "id": "ff9d64f1",
   "metadata": {},
   "source": [
    "## Check: Validate Binary Columns Contain Only 0 and 1\n",
    "\n"
   ]
  },
  {
   "cell_type": "code",
   "execution_count": 24,
   "id": "80bca5fe",
   "metadata": {},
   "outputs": [
    {
     "name": "stdout",
     "output_type": "stream",
     "text": [
      "partner: [1 0]\n",
      "dependents: [0 1]\n",
      "phoneservice: [0 1]\n",
      "multiplelines: [0 1]\n",
      "onlinesecurity: [0 1]\n",
      "onlinebackup: [1 0]\n",
      "deviceprotection: [0 1]\n",
      "techsupport: [0 1]\n",
      "streamingtv: [0 1]\n",
      "streamingmovies: [0 1]\n",
      "paperlessbilling: [1 0]\n",
      "churn: [0 1]\n"
     ]
    }
   ],
   "source": [
    "for col in binary_cols:\n",
    "    print(f\"{col}: {df[col].unique()}\")\n",
    "    assert set(df[col].unique()).issubset({0, 1}), f\"{col} contains unexpected values\"\n"
   ]
  },
  {
   "cell_type": "markdown",
   "id": "4accec1c",
   "metadata": {},
   "source": [
    "## Label Encoding Mapping for 'Contract'\n",
    "\n",
    "- 0 = Month-to-month  \n",
    "- 1 = One year  \n",
    "- 2 = Two year  \n",
    "\n",
    "Mapping dictionary (for reference and reuse):  \n",
    "`{'Month-to-month': 0, 'One year': 1, 'Two year': 2}`\n"
   ]
  },
  {
   "cell_type": "code",
   "execution_count": 30,
   "id": "4661365a",
   "metadata": {},
   "outputs": [],
   "source": [
    "\n",
    "from sklearn.preprocessing import LabelEncoder\n",
    "\n",
    "le_contract = LabelEncoder()\n",
    "df['contract_encoded'] = le_contract.fit_transform(df['contract'])\n",
    "\n",
    "# Save mapping\n",
    "contract_label_map = dict(zip(le_contract.classes_, le_contract.transform(le_contract.classes_)))\n"
   ]
  },
  {
   "cell_type": "markdown",
   "id": "74c01aab",
   "metadata": {},
   "source": [
    "## Check: Verify 'Contract' Label Encoding and Mapping"
   ]
  },
  {
   "cell_type": "code",
   "execution_count": 31,
   "id": "6af3aabc",
   "metadata": {},
   "outputs": [
    {
     "name": "stdout",
     "output_type": "stream",
     "text": [
      "          contract  contract_encoded\n",
      "0   Month-to-month                 0\n",
      "1         One year                 1\n",
      "11        Two year                 2\n"
     ]
    }
   ],
   "source": [
    "# Print encoded values to verify\n",
    "print(df[['contract', 'contract_encoded']].drop_duplicates().sort_values('contract_encoded'))\n",
    "\n",
    "# Optional reverse map for later use\n",
    "contract_reverse_map = {v: k for k, v in contract_label_map.items()}\n"
   ]
  },
  {
   "cell_type": "code",
   "execution_count": 33,
   "id": "d6d72af9",
   "metadata": {},
   "outputs": [
    {
     "data": {
      "text/plain": [
       "['contract_label_encoder.pkl']"
      ]
     },
     "execution_count": 33,
     "metadata": {},
     "output_type": "execute_result"
    }
   ],
   "source": [
    "joblib.dump(le_contract, 'contract_label_encoder.pkl')\n"
   ]
  },
  {
   "cell_type": "markdown",
   "id": "49b48e24",
   "metadata": {},
   "source": [
    "### Label Encoding: Binary Categorical Columns\n",
    "\n",
    "These columns contain only two unique text values (e.g., 'Yes'/'No'), so we use LabelEncoder to convert them to 0/1 for modeling.\n"
   ]
  },
  {
   "cell_type": "code",
   "execution_count": 34,
   "id": "713fa208",
   "metadata": {},
   "outputs": [],
   "source": [
    "binary_cols = ['gender', 'partner', 'dependents', 'phoneservice', 'paperlessbilling']\n",
    "label_encoders = {}\n",
    "\n",
    "for col in binary_cols:\n",
    "    le = LabelEncoder()\n",
    "    df[f'{col}_encoded'] = le.fit_transform(df[col])\n",
    "    label_encoders[col] = dict(zip(le.classes_, le.transform(le.classes_)))\n"
   ]
  },
  {
   "cell_type": "markdown",
   "id": "a5fe470a",
   "metadata": {},
   "source": [
    "### Check: Encoded Value Mappings for Binary Columns"
   ]
  },
  {
   "cell_type": "code",
   "execution_count": 38,
   "id": "014094bf",
   "metadata": {},
   "outputs": [
    {
     "name": "stdout",
     "output_type": "stream",
     "text": [
      "gender mapping: {k: int(v) for k, v in mapping.items()}\n",
      "partner mapping: {k: int(v) for k, v in mapping.items()}\n",
      "dependents mapping: {k: int(v) for k, v in mapping.items()}\n",
      "phoneservice mapping: {k: int(v) for k, v in mapping.items()}\n",
      "paperlessbilling mapping: {k: int(v) for k, v in mapping.items()}\n"
     ]
    }
   ],
   "source": [
    "for col, mapping in label_encoders.items():\n",
    "    print(f\"{col} mapping: {{k: int(v) for k, v in mapping.items()}}\")\n",
    "\n",
    "# Save all label encoders\n"
   ]
  },
  {
   "cell_type": "markdown",
   "id": "ca50980b",
   "metadata": {},
   "source": [
    "### Optional: Reverse Mapping for Verification"
   ]
  },
  {
   "cell_type": "code",
   "execution_count": 39,
   "id": "5c4287cc",
   "metadata": {},
   "outputs": [
    {
     "data": {
      "text/html": [
       "<div>\n",
       "<style scoped>\n",
       "    .dataframe tbody tr th:only-of-type {\n",
       "        vertical-align: middle;\n",
       "    }\n",
       "\n",
       "    .dataframe tbody tr th {\n",
       "        vertical-align: top;\n",
       "    }\n",
       "\n",
       "    .dataframe thead th {\n",
       "        text-align: right;\n",
       "    }\n",
       "</style>\n",
       "<table border=\"1\" class=\"dataframe\">\n",
       "  <thead>\n",
       "    <tr style=\"text-align: right;\">\n",
       "      <th></th>\n",
       "      <th>gender</th>\n",
       "      <th>gender_encoded</th>\n",
       "      <th>gender_decoded</th>\n",
       "    </tr>\n",
       "  </thead>\n",
       "  <tbody>\n",
       "    <tr>\n",
       "      <th>0</th>\n",
       "      <td>Female</td>\n",
       "      <td>0</td>\n",
       "      <td>Female</td>\n",
       "    </tr>\n",
       "    <tr>\n",
       "      <th>1</th>\n",
       "      <td>Male</td>\n",
       "      <td>1</td>\n",
       "      <td>Male</td>\n",
       "    </tr>\n",
       "    <tr>\n",
       "      <th>2</th>\n",
       "      <td>Male</td>\n",
       "      <td>1</td>\n",
       "      <td>Male</td>\n",
       "    </tr>\n",
       "    <tr>\n",
       "      <th>3</th>\n",
       "      <td>Male</td>\n",
       "      <td>1</td>\n",
       "      <td>Male</td>\n",
       "    </tr>\n",
       "    <tr>\n",
       "      <th>4</th>\n",
       "      <td>Female</td>\n",
       "      <td>0</td>\n",
       "      <td>Female</td>\n",
       "    </tr>\n",
       "  </tbody>\n",
       "</table>\n",
       "</div>"
      ],
      "text/plain": [
       "   gender  gender_encoded gender_decoded\n",
       "0  Female               0         Female\n",
       "1    Male               1           Male\n",
       "2    Male               1           Male\n",
       "3    Male               1           Male\n",
       "4  Female               0         Female"
      ]
     },
     "metadata": {},
     "output_type": "display_data"
    }
   ],
   "source": [
    "reverse_map = {v: k for k, v in label_encoders['gender'].items()}\n",
    "df['gender_decoded'] = df['gender_encoded'].map(reverse_map)\n",
    "display(df[['gender', 'gender_encoded', 'gender_decoded']].head())\n"
   ]
  },
  {
   "cell_type": "markdown",
   "id": "33110cf3",
   "metadata": {},
   "source": [
    "### One-Hot Encode Non-Binary Categorical Columns\n"
   ]
  },
  {
   "cell_type": "code",
   "execution_count": 52,
   "id": "d717b0ae",
   "metadata": {},
   "outputs": [
    {
     "name": "stdout",
     "output_type": "stream",
     "text": [
      "Index(['customerid', 'gender', 'seniorcitizen', 'partner', 'dependents',\n",
      "       'tenure', 'phoneservice', 'multiplelines', 'onlinesecurity',\n",
      "       'onlinebackup', 'deviceprotection', 'techsupport', 'streamingtv',\n",
      "       'streamingmovies', 'contract', 'paperlessbilling', 'monthlycharges',\n",
      "       'totalcharges', 'churn', 'contract_encoded', 'gender_encoded',\n",
      "       'partner_encoded', 'dependents_encoded', 'phoneservice_encoded',\n",
      "       'paperlessbilling_encoded', 'gender_decoded',\n",
      "       'internetservice_Fiber optic', 'internetservice_No',\n",
      "       'paymentmethod_Credit card (automatic)',\n",
      "       'paymentmethod_Electronic check', 'paymentmethod_Mailed check'],\n",
      "      dtype='object')\n"
     ]
    }
   ],
   "source": [
    "print(df.columns)\n"
   ]
  },
  {
   "cell_type": "code",
   "execution_count": 51,
   "id": "7620bc87",
   "metadata": {},
   "outputs": [],
   "source": [
    "# One-hot encode selected columns\n",
    "one_hot_cols = ['internetservice', 'paymentmethod']\n",
    "df = pd.get_dummies(df, columns=one_hot_cols, drop_first=True)\n"
   ]
  },
  {
   "cell_type": "markdown",
   "id": "920d0e98",
   "metadata": {},
   "source": [
    "### Check: One-Hot Encoded Columns Contain 0s and 1s\n",
    "\n",
    "This ensures:\n",
    "\n",
    "Columns were created (filter)\n",
    "\n",
    "Encoded values are actually being used (contain both 0s and 1s, or at least some 1s)"
   ]
  },
  {
   "cell_type": "code",
   "execution_count": 53,
   "id": "116a8d94",
   "metadata": {},
   "outputs": [
    {
     "name": "stdout",
     "output_type": "stream",
     "text": [
      "\n",
      "Columns for 'internetservice_': ['internetservice_Fiber optic', 'internetservice_No']\n",
      "internetservice_Fiber optic value counts:\n",
      "internetservice_Fiber optic\n",
      "False    3936\n",
      "True     3096\n",
      "Name: count, dtype: int64\n",
      "\n",
      "internetservice_No value counts:\n",
      "internetservice_No\n",
      "False    5512\n",
      "True     1520\n",
      "Name: count, dtype: int64\n",
      "\n",
      "\n",
      "Columns for 'paymentmethod_': ['paymentmethod_Credit card (automatic)', 'paymentmethod_Electronic check', 'paymentmethod_Mailed check']\n",
      "paymentmethod_Credit card (automatic) value counts:\n",
      "paymentmethod_Credit card (automatic)\n",
      "False    5511\n",
      "True     1521\n",
      "Name: count, dtype: int64\n",
      "\n",
      "paymentmethod_Electronic check value counts:\n",
      "paymentmethod_Electronic check\n",
      "False    4667\n",
      "True     2365\n",
      "Name: count, dtype: int64\n",
      "\n",
      "paymentmethod_Mailed check value counts:\n",
      "paymentmethod_Mailed check\n",
      "False    5428\n",
      "True     1604\n",
      "Name: count, dtype: int64\n",
      "\n"
     ]
    }
   ],
   "source": [
    "for prefix in ['internetservice_', 'paymentmethod_']:\n",
    "    cols = df.filter(like=prefix).columns\n",
    "    print(f\"\\nColumns for '{prefix}': {list(cols)}\")\n",
    "    for col in cols:\n",
    "        print(f\"{col} value counts:\\n{df[col].value_counts()}\\n\")\n",
    "\n",
    "\n"
   ]
  }
 ],
 "metadata": {
  "kernelspec": {
   "display_name": ".venv",
   "language": "python",
   "name": "python3"
  },
  "language_info": {
   "codemirror_mode": {
    "name": "ipython",
    "version": 3
   },
   "file_extension": ".py",
   "mimetype": "text/x-python",
   "name": "python",
   "nbconvert_exporter": "python",
   "pygments_lexer": "ipython3",
   "version": "3.11.1"
  }
 },
 "nbformat": 4,
 "nbformat_minor": 5
}
